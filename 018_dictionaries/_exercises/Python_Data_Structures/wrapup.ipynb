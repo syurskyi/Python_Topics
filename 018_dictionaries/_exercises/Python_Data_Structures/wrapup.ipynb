{
 "metadata": {
  "name": "",
  "signature": "sha256:62efbcff96310ac14d81174322ff22ff0c5e857057f4ed17ee3dbb1e2d0c96e8"
 },
 "nbformat": 3,
 "nbformat_minor": 0,
 "worksheets": [
  {
   "cells": [
    {
     "cell_type": "code",
     "collapsed": false,
     "input": [
      "list"
     ],
     "language": "python",
     "metadata": {},
     "outputs": [
      {
       "metadata": {},
       "output_type": "pyout",
       "prompt_number": 2,
       "text": [
        "list"
       ]
      }
     ],
     "prompt_number": 2
    },
    {
     "cell_type": "code",
     "collapsed": false,
     "input": [
      "tuple"
     ],
     "language": "python",
     "metadata": {},
     "outputs": [
      {
       "metadata": {},
       "output_type": "pyout",
       "prompt_number": 3,
       "text": [
        "tuple"
       ]
      }
     ],
     "prompt_number": 3
    },
    {
     "cell_type": "code",
     "collapsed": false,
     "input": [
      "set"
     ],
     "language": "python",
     "metadata": {},
     "outputs": [
      {
       "metadata": {},
       "output_type": "pyout",
       "prompt_number": 4,
       "text": [
        "set"
       ]
      }
     ],
     "prompt_number": 4
    },
    {
     "cell_type": "code",
     "collapsed": false,
     "input": [
      "dict"
     ],
     "language": "python",
     "metadata": {},
     "outputs": [
      {
       "metadata": {},
       "output_type": "pyout",
       "prompt_number": 5,
       "text": [
        "dict"
       ]
      }
     ],
     "prompt_number": 5
    },
    {
     "cell_type": "code",
     "collapsed": false,
     "input": [
      "{a for a in dir(__builtins__) if isinstance(getattr(__builtins__, a), type) \n",
      "                             and a.islower()} - {'__loader__'}"
     ],
     "language": "python",
     "metadata": {},
     "outputs": [
      {
       "metadata": {},
       "output_type": "pyout",
       "prompt_number": 15,
       "text": [
        "{'bool',\n",
        " 'bytearray',\n",
        " 'bytes',\n",
        " 'classmethod',\n",
        " 'complex',\n",
        " 'dict',\n",
        " 'enumerate',\n",
        " 'filter',\n",
        " 'float',\n",
        " 'frozenset',\n",
        " 'int',\n",
        " 'list',\n",
        " 'map',\n",
        " 'memoryview',\n",
        " 'object',\n",
        " 'property',\n",
        " 'range',\n",
        " 'reversed',\n",
        " 'set',\n",
        " 'slice',\n",
        " 'staticmethod',\n",
        " 'str',\n",
        " 'super',\n",
        " 'tuple',\n",
        " 'type',\n",
        " 'zip'}"
       ]
      }
     ],
     "prompt_number": 15
    }
   ],
   "metadata": {}
  }
 ]
}
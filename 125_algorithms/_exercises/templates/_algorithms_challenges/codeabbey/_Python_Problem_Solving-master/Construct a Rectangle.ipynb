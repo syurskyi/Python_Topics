{
 "cells": [
  {
   "cell_type": "markdown",
   "metadata": {},
   "source": [
    "# Construct a Triangle\n",
    "\n",
    "For a web developer, it is very important to know how to design a web page's size. So, given a specific rectangular web page’s area, your job by now is to design a rectangular web page, whose length L and width W satisfy the following requirements:\n",
    "```\n",
    "1. The area of the rectangular web page you designed must equal to the given target area.\n",
    "\n",
    "2. The width W should not be larger than the length L, which means L >= W.\n",
    "\n",
    "3. The difference between length L and width W should be as small as possible.\n",
    "```\n",
    "You need to output the length L and the width W of the web page you designed in sequence.\n",
    "\n",
    "```\n",
    "Example:\n",
    "Input: 4\n",
    "Output: [2, 2]\n",
    "Explanation: The target area is 4, and all the possible ways to construct it are [1,4], [2,2], [4,1]. \n",
    "But according to requirement 2, [1,4] is illegal; according to requirement 3,  [4,1] is not optimal compared to [2,2]. So the length L is 2, and the width W is 2.\n",
    "```\n",
    "\n",
    "Note:\n",
    "The given area won't exceed 10,000,000 and is a positive integer\n",
    "The web page's width and length you designed must be positive integers."
   ]
  },
  {
   "cell_type": "code",
   "execution_count": 53,
   "metadata": {},
   "outputs": [
    {
     "data": {
      "text/plain": [
       "[5, 2]"
      ]
     },
     "execution_count": 53,
     "metadata": {},
     "output_type": "execute_result"
    }
   ],
   "source": [
    "# This is the brute force method i used\n",
    "n = 10\n",
    "#to store the value of the minimum number\n",
    "result = []\n",
    "\n",
    "mino = -1\n",
    "\n",
    "#traversal from all the numbers upto n ( Big mistake here)\n",
    "for i in range(1,n+1):\n",
    "    #check if the n is divisible by 10 if yes then proceed\n",
    "    if n%i == 0:\n",
    "          \n",
    "        #again traversing through all the numbers till n\n",
    "        for j in range(1,n+1):\n",
    "            # checking if i> j and if n is divisible by j and i*j is equal to 10\n",
    "            if i >= j and n%j == 0 and i*j == n :\n",
    "                #if above case if satisfied then initially set the minimum and also store the result\n",
    "                if mino == -1:\n",
    "                    mino = i-j\n",
    "                    result.append(i)\n",
    "                    result.append(j)\n",
    "                #if any other case is less than minimum then reset the result and store new\n",
    "                if (i-j) <= mino:\n",
    "                    \n",
    "                    mino = i-j\n",
    "                    result = []\n",
    "                    result.append(i)\n",
    "                    result.append(j)\n",
    "                                  \n",
    "\n",
    "#return the result                                  \n",
    "result    \n",
    "\n",
    "#the above algorithm is complex and has time complexity of O(N^2).. not good need improvement"
   ]
  },
  {
   "cell_type": "code",
   "execution_count": 54,
   "metadata": {},
   "outputs": [
    {
     "name": "stdout",
     "output_type": "stream",
     "text": [
      "[2, 2]\n"
     ]
    }
   ],
   "source": [
    "\n",
    "n =4\n",
    "\n",
    "#take square root of n\n",
    "sqr_num = int(n**0.5)\n",
    "\n",
    "# while n is not divisible by the sqr_root number \n",
    "# keep decrementing the sqr_root number\n",
    "# Once found the value which stops the while loop\n",
    "# divide the n by sqr_root number and return the divided value and the sqr_root number as follows.\n",
    "while (n%sqr_num) != 0:\n",
    "    sqr_num -=1\n",
    "print([int(n/sqr_num),sqr_num])\n",
    "    "
   ]
  }
 ],
 "metadata": {
  "kernelspec": {
   "display_name": "Python 3",
   "language": "python",
   "name": "python3"
  },
  "language_info": {
   "codemirror_mode": {
    "name": "ipython",
    "version": 3
   },
   "file_extension": ".py",
   "mimetype": "text/x-python",
   "name": "python",
   "nbconvert_exporter": "python",
   "pygments_lexer": "ipython3",
   "version": "3.6.8"
  }
 },
 "nbformat": 4,
 "nbformat_minor": 2
}

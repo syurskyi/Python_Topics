{
 "cells": [
  {
   "cell_type": "markdown",
   "metadata": {},
   "source": [
    "# Lemonade Change\n",
    "At a lemonade stand, each lemonade costs $5. \n",
    "\n",
    "Customers are standing in a queue to buy from you, and order one at a time (in the order specified by bills).\n",
    "\n",
    "Each customer will only buy one lemonade and pay with either a $5, $10, or $20 bill.  You must provide the correct change to each customer, so that the net transaction is that the customer pays $5.\n",
    "\n",
    "Note that you don't have any change in hand at first.\n",
    "\n",
    "Return true if and only if you can provide every customer with correct change.\n",
    "\n",
    " \n",
    "```\n",
    "Example 1:\n",
    "\n",
    "Input: [5,5,5,10,20]\n",
    "Output: true\n",
    "Explanation: \n",
    "From the first 3 customers, we collect three $5 bills in order.\n",
    "From the fourth customer, we collect a $10 bill and give back a $5.\n",
    "From the fifth customer, we give a $10 bill and a $5 bill.\n",
    "Since all customers got correct change, we output true.\n",
    "Example 2:\n",
    "\n",
    "Input: [5,5,10]\n",
    "Output: true\n",
    "Example 3:\n",
    "\n",
    "Input: [10,10]\n",
    "Output: false\n",
    "Example 4:\n",
    "\n",
    "Input: [5,5,10,10,20]\n",
    "Output: false\n",
    "Explanation: \n",
    "From the first two customers in order, we collect two $5 bills.\n",
    "For the next two customers in order, we collect a $10 bill and give back a $5 bill.\n",
    "For the last customer, we can't give change of $15 back because we only have two $10 bills.\n",
    "Since not every customer received correct change, the answer is false.\n",
    "```\n",
    "\n",
    "Note:\n",
    "\n",
    "0 <= bills.length <= 10000\n",
    "bills[i] will be either 5, 10, or 20."
   ]
  },
  {
   "cell_type": "code",
   "execution_count": 23,
   "metadata": {},
   "outputs": [],
   "source": [
    "def lemonadeChange(a):\n",
    "\n",
    "    if a[0] > 5:\n",
    "        return False\n",
    "\n",
    "    count5 = 0\n",
    "    count10 = 0\n",
    "    change = 0\n",
    "    for i in range(len(a)):\n",
    "\n",
    "        if a[i] == 5:\n",
    "\n",
    "            count5 += 1\n",
    "        elif a[i] == 10:\n",
    "            change = 10 - 5\n",
    "            count10 += 1\n",
    "\n",
    "            while change != 0:\n",
    "                if count5 > 0:\n",
    "                    count5 -= 1\n",
    "                    change -= 5\n",
    "                else:\n",
    "                    return False\n",
    "        elif a[i] == 20:\n",
    "\n",
    "            change = 20 - 5\n",
    "        \n",
    "            while change != 0:\n",
    "                print('count of 10 is',count10,'count of 5 is',count5)\n",
    "                if count10 > 0 and change >= 10:\n",
    "                    count10 -= 1\n",
    "                    change -= 10\n",
    "                    print('change after deducting 10 is',change)\n",
    "                elif count5 > 0 and change >= 5:\n",
    "                    count5 -= 1\n",
    "                    change -= 5\n",
    "                    print('change after deducting 5 is',change)\n",
    "                else:\n",
    "                    print('returning False')\n",
    "                    return False\n",
    "    return True"
   ]
  },
  {
   "cell_type": "code",
   "execution_count": 24,
   "metadata": {},
   "outputs": [
    {
     "name": "stdout",
     "output_type": "stream",
     "text": [
      "count of 10 is 4 count of 5 is 1\n",
      "change after deducting 10 is 5\n",
      "count of 10 is 3 count of 5 is 1\n",
      "change after deducting 5 is 0\n"
     ]
    },
    {
     "data": {
      "text/plain": [
       "True"
      ]
     },
     "execution_count": 24,
     "metadata": {},
     "output_type": "execute_result"
    }
   ],
   "source": [
    "#a =[5,5,5,10,20] # True\n",
    "#a= [5,5,10,10,20] # False\n",
    "a= [5,5,5,5,10,5,10,10,10,20] #True\n",
    "lemonadeChange(a)"
   ]
  }
 ],
 "metadata": {
  "kernelspec": {
   "display_name": "Python 3",
   "language": "python",
   "name": "python3"
  },
  "language_info": {
   "codemirror_mode": {
    "name": "ipython",
    "version": 3
   },
   "file_extension": ".py",
   "mimetype": "text/x-python",
   "name": "python",
   "nbconvert_exporter": "python",
   "pygments_lexer": "ipython3",
   "version": "3.6.8"
  }
 },
 "nbformat": 4,
 "nbformat_minor": 2
}

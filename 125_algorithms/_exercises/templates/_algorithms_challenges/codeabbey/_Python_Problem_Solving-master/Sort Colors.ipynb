{
 "cells": [
  {
   "cell_type": "markdown",
   "metadata": {},
   "source": [
    "# Sort Colors\n",
    "Given an array with n objects colored red, white or blue, sort them in-place so that objects of the same color are adjacent, with the colors in the order red, white and blue.\n",
    "\n",
    "Here, we will use the integers 0, 1, and 2 to represent the color red, white, and blue respectively.\n",
    "\n",
    "Note: You are not suppose to use the library's sort function for this problem.\n",
    "```\n",
    "Example:\n",
    "\n",
    "Input: [2,0,2,1,1,0]\n",
    "Output: [0,0,1,1,2,2]\n",
    "\n",
    "```"
   ]
  },
  {
   "cell_type": "code",
   "execution_count": 30,
   "metadata": {},
   "outputs": [
    {
     "data": {
      "text/plain": [
       "[0, 0, 0, 1, 1, 1]"
      ]
     },
     "execution_count": 30,
     "metadata": {},
     "output_type": "execute_result"
    }
   ],
   "source": [
    "nums = [0,0,1,0,1,1]\n",
    "#nums = [2,0,2,1,1,0]\n",
    "#nums = [1,0,0]\n",
    "#nums = [0]\n",
    "#nums = [1,1]\n",
    "i = 0 \n",
    "counter = 0\n",
    "pos_zero = 0\n",
    "while counter <= len(nums) and i<len(nums):\n",
    "    \n",
    "    if len(nums)==1:\n",
    "        counter += 1\n",
    "    if nums[i] == 0:\n",
    "        nums.pop(i)\n",
    "        nums.insert(pos_zero,0)\n",
    "        counter+=1\n",
    "        pos_zero +=1\n",
    "        i+= 1\n",
    "    elif nums[i] == 2:\n",
    "        nums.pop(i)\n",
    "        nums.append(2)\n",
    "        counter += 1\n",
    "    elif nums[i] == 1:  \n",
    "        i += 1\n",
    "        counter +=1\n",
    "    else:\n",
    "        i += 1\n",
    "        pass\n",
    "    \n",
    "nums\n",
    "    \n",
    "        \n",
    "    "
   ]
  },
  {
   "cell_type": "markdown",
   "metadata": {},
   "source": [
    "Here the idea is to place 0 in the front and 2's at the end of the list. Thus it will make the list sorted."
   ]
  }
 ],
 "metadata": {
  "kernelspec": {
   "display_name": "Python 3",
   "language": "python",
   "name": "python3"
  },
  "language_info": {
   "codemirror_mode": {
    "name": "ipython",
    "version": 3
   },
   "file_extension": ".py",
   "mimetype": "text/x-python",
   "name": "python",
   "nbconvert_exporter": "python",
   "pygments_lexer": "ipython3",
   "version": "3.6.8"
  }
 },
 "nbformat": 4,
 "nbformat_minor": 2
}

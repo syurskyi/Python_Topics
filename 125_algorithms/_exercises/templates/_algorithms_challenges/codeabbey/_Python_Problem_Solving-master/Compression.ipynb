{
 "cells": [
  {
   "cell_type": "markdown",
   "metadata": {},
   "source": [
    "# Compresssion\n",
    "\n",
    "\n",
    "given a string if there are consequtive char then append the count.\n"
   ]
  },
  {
   "cell_type": "code",
   "execution_count": 7,
   "metadata": {},
   "outputs": [
    {
     "data": {
      "text/plain": [
       "'ala2sas2'"
      ]
     },
     "execution_count": 7,
     "metadata": {},
     "output_type": "execute_result"
    }
   ],
   "source": [
    "s = 'alaasass'\n",
    "\n",
    "count_check =  False\n",
    "\n",
    "count = 1\n",
    "\n",
    "res = ''\n",
    "\n",
    "for i in range(len(s)):\n",
    "    \n",
    "    if res == '':\n",
    "        res +=s[i]\n",
    "    else:\n",
    "        \n",
    "        if s[i] == res[-1]:\n",
    "            count +=1\n",
    "            count_check = True\n",
    "            if i ==  len(s)-1:\n",
    "                res += str(count)\n",
    "        else:\n",
    "            if count_check:\n",
    "                res += str(count)\n",
    "                count = 1\n",
    "                count_check = False\n",
    "            res += s[i]\n",
    "return res"
   ]
  },
  {
   "cell_type": "code",
   "execution_count": 1,
   "metadata": {},
   "outputs": [
    {
     "data": {
      "text/plain": [
       "'t'"
      ]
     },
     "execution_count": 1,
     "metadata": {},
     "output_type": "execute_result"
    }
   ],
   "source": [
    "s ='sumit'\n",
    "s[-1]"
   ]
  }
 ],
 "metadata": {
  "kernelspec": {
   "display_name": "Python 3",
   "language": "python",
   "name": "python3"
  },
  "language_info": {
   "codemirror_mode": {
    "name": "ipython",
    "version": 3
   },
   "file_extension": ".py",
   "mimetype": "text/x-python",
   "name": "python",
   "nbconvert_exporter": "python",
   "pygments_lexer": "ipython3",
   "version": "3.6.8"
  }
 },
 "nbformat": 4,
 "nbformat_minor": 2
}

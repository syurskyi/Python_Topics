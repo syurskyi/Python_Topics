{
 "cells": [
  {
   "cell_type": "markdown",
   "metadata": {},
   "source": [
    "# Maximum Gap\n",
    "\n",
    "Given an unsorted array, find the maximum difference between the successive elements in its sorted form.\n",
    "\n",
    "Return 0 if the array contains less than 2 elements.\n",
    "```\n",
    "Example 1:\n",
    "\n",
    "Input: [3,6,9,1]\n",
    "Output: 3\n",
    "Explanation: The sorted form of the array is [1,3,6,9], either\n",
    "             (3,6) or (6,9) has the maximum difference 3.\n",
    "Example 2:\n",
    "\n",
    "Input: [10]\n",
    "Output: 0\n",
    "Explanation: The array contains less than 2 elements, therefore return 0.\n",
    "```\n",
    "\n",
    "***Note:***\n",
    "\n",
    "You may assume all elements in the array are non-negative integers and fit in the 32-bit signed integer range.\n",
    "Try to solve it in linear time/space."
   ]
  },
  {
   "cell_type": "code",
   "execution_count": 3,
   "metadata": {},
   "outputs": [
    {
     "data": {
      "text/plain": [
       "3"
      ]
     },
     "execution_count": 3,
     "metadata": {},
     "output_type": "execute_result"
    }
   ],
   "source": [
    "a = [3,6,9,1]\n",
    "\n",
    "if len(a) < 2:\n",
    "\n",
    "#use most efficient sort method\n",
    "a.sort()\n",
    "max_diff = 0\n",
    "\n",
    "#checking for every two consecutive sequence\n",
    "for i in range(len(a)-1):\n",
    "    temp = a[i+1] - a[i]\n",
    "    if temp > max_diff:\n",
    "        max_diff = temp\n",
    "        \n",
    "#return the maximum difference in the sequence\n",
    "max_diff\n",
    "    "
   ]
  },
  {
   "cell_type": "code",
   "execution_count": 2,
   "metadata": {},
   "outputs": [
    {
     "data": {
      "text/plain": [
       "[1, 3, 6, 9]"
      ]
     },
     "execution_count": 2,
     "metadata": {},
     "output_type": "execute_result"
    }
   ],
   "source": [
    "a"
   ]
  },
  {
   "cell_type": "markdown",
   "metadata": {},
   "source": [
    "The Time Complexity of the above algorith is: O(N)  \n",
    "Space Complexity is O(N-1)"
   ]
  }
 ],
 "metadata": {
  "kernelspec": {
   "display_name": "Python 3",
   "language": "python",
   "name": "python3"
  },
  "language_info": {
   "codemirror_mode": {
    "name": "ipython",
    "version": 3
   },
   "file_extension": ".py",
   "mimetype": "text/x-python",
   "name": "python",
   "nbconvert_exporter": "python",
   "pygments_lexer": "ipython3",
   "version": "3.6.8"
  }
 },
 "nbformat": 4,
 "nbformat_minor": 2
}

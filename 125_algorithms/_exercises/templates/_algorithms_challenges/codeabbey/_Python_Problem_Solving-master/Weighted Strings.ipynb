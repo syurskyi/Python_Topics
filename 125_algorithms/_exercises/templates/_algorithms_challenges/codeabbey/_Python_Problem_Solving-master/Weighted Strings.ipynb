{
 "cells": [
  {
   "cell_type": "markdown",
   "metadata": {},
   "source": [
    "# Weighted Strings\n",
    "\n",
    "Here capital alphabets are assigned numbers as follows:\n",
    "\n",
    "```\n",
    "A: 1\n",
    "B: 2* A + A\n",
    "C: 3* B + B\n",
    "D: 4* C + C\n",
    "E: 5* D + D\n",
    ".\n",
    ".\n",
    ".\n",
    "X:24* W + W\n",
    "Y:25* X + X\n",
    "Z:26* Y + Y\n",
    "\n",
    "```\n",
    "\n",
    "### Problem statement:\n",
    "\n",
    "Here you'll be given a number(Weight) and you have to find that how many combinations of the above alphabets are required to achieve that number. You have to return the shortest possible string of alphabets from which the given number can be achieved through addition. \n",
    "\n",
    "* For Example: **given weight: 20**, ***Note: here you don't have to consider numbers greater than 20***\n",
    "    * You will only consider A=1,B=3, and C=12 for weight 20.   \n",
    "    * Many combinations can be formed to achieve 20 like ***AABBBBBB, AAAAABBBBB,...,AABBC.***  \n",
    "    *Here the shortest string upon adding the respective number, 20 is achieved is **AABBC**.  \n",
    "    i.e 1+1+3+3+12 = 20\n",
    "\n"
   ]
  },
  {
   "cell_type": "code",
   "execution_count": 61,
   "metadata": {},
   "outputs": [
    {
     "data": {
      "text/plain": [
       "{1: 'A',\n",
       " 3: 'B',\n",
       " 12: 'C',\n",
       " 60: 'D',\n",
       " 360: 'E',\n",
       " 2520: 'F',\n",
       " 20160: 'G',\n",
       " 181440: 'H',\n",
       " 1814400: 'I',\n",
       " 19958400: 'J',\n",
       " 239500800: 'K',\n",
       " 3113510400: 'L',\n",
       " 43589145600: 'M',\n",
       " 653837184000: 'N',\n",
       " 10461394944000: 'O',\n",
       " 177843714048000: 'P',\n",
       " 3201186852864000: 'Q',\n",
       " 60822550204416000: 'R',\n",
       " 1216451004088320000: 'S',\n",
       " 25545471085854720000: 'T',\n",
       " 562000363888803840000: 'U',\n",
       " 12926008369442488320000: 'V',\n",
       " 310224200866619719680000: 'W',\n",
       " 7755605021665492992000000: 'X',\n",
       " 201645730563302817792000000: 'Y',\n",
       " 5444434725209176080384000000: 'Z'}"
      ]
     },
     "execution_count": 61,
     "metadata": {},
     "output_type": "execute_result"
    }
   ],
   "source": [
    "# Created a string to traverse\n",
    "alpha = 'ABCDEFGHIJKLMNOPQRSTUVWXYZ'\n",
    "\n",
    "#dictionary to store the value and its respective alphabet\n",
    "alpha_dict = {}\n",
    "#list to store the values\n",
    "w = []\n",
    "#to store the final result\n",
    "result = ''\n",
    "\n",
    "#traversing through all the alphabets\n",
    "for i in range(1,len(alpha)+1):\n",
    "\n",
    "    if i == 1:\n",
    "        alpha_dict[i] = alpha[i-1]\n",
    "        w.append(i)        \n",
    "    else:\n",
    "        # B = 2 * A + A\n",
    "        cal = (i * w[-1] )+ w[-1]\n",
    "        # { 3: 'B'....}\n",
    "        alpha_dict[cal] = alpha[i-1]\n",
    "        #storing B's value\n",
    "        w.append(cal)\n",
    "        \n",
    "alpha_dict\n"
   ]
  },
  {
   "cell_type": "code",
   "execution_count": 62,
   "metadata": {},
   "outputs": [
    {
     "data": {
      "text/plain": [
       "[1, 3, 12]"
      ]
     },
     "execution_count": 62,
     "metadata": {},
     "output_type": "execute_result"
    }
   ],
   "source": [
    "#given weight\n",
    "wt = 20\n",
    "count = 0\n",
    "\n",
    "\n",
    "while True:\n",
    "    # traverse through the calculated alphabet values and if less than weight increment the count\n",
    "    if w[count] < 20:\n",
    "        count += 1\n",
    "    else:\n",
    "        break\n",
    "#take the alphabet values which are less than weights\n",
    "new = w[:count]\n",
    "\n",
    "new\n"
   ]
  },
  {
   "cell_type": "code",
   "execution_count": 63,
   "metadata": {},
   "outputs": [
    {
     "data": {
      "text/plain": [
       "'AABBC'"
      ]
     },
     "execution_count": 63,
     "metadata": {},
     "output_type": "execute_result"
    }
   ],
   "source": [
    "#while the wt is not zero do the following\n",
    "while wt!=0:\n",
    "    #assign the current wt to temp variable\n",
    "    temp = wt\n",
    "    # subtract the wt from the last element of list [1,3,12] \n",
    "    wt = wt - new[-1]\n",
    "    # if the wt goes in negative\n",
    "    if wt < 0:\n",
    "        #pop the last element of the list\n",
    "        new.pop()\n",
    "        # as the wt is in negative assign the previous value of wt which was assigned to temp\n",
    "        wt = temp\n",
    "    else:\n",
    "        #Store the number of times a alphabet value is used\n",
    "        result = alpha_dict[new[-1]] + result\n",
    "        \n",
    "#return the result string\n",
    "result"
   ]
  }
 ],
 "metadata": {
  "kernelspec": {
   "display_name": "Python 3",
   "language": "python",
   "name": "python3"
  },
  "language_info": {
   "codemirror_mode": {
    "name": "ipython",
    "version": 3
   },
   "file_extension": ".py",
   "mimetype": "text/x-python",
   "name": "python",
   "nbconvert_exporter": "python",
   "pygments_lexer": "ipython3",
   "version": "3.6.8"
  }
 },
 "nbformat": 4,
 "nbformat_minor": 2
}

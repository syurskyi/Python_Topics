{
 "cells": [
  {
   "cell_type": "markdown",
   "metadata": {},
   "source": [
    "# Move Zeroes\n",
    "Given an array nums, write a function to move all 0's to the end of it while maintaining the relative order of the non-zero elements.\n",
    "```\n",
    "Example:\n",
    "\n",
    "Input: [0,1,0,3,12]\n",
    "Output: [1,3,12,0,0]\n",
    "```\n",
    "Note:\n",
    "\n",
    "You must do this in-place without making a copy of the array.\n",
    "Minimize the total number of operations."
   ]
  },
  {
   "cell_type": "code",
   "execution_count": null,
   "metadata": {},
   "outputs": [],
   "source": [
    "class Solution:\n",
    "    def moveZeroes(self, nums: List[int]) -> None:\n",
    "        \"\"\"\n",
    "        Do not return anything, modify nums in-place instead.\n",
    "        \"\"\"\n",
    "        #need counter to count from start of the list\n",
    "        i = 0\n",
    "        #counter for subtracting the zero \n",
    "        j = len(nums)\n",
    "        \n",
    "        \n",
    "        #checking initial condition\n",
    "        if len(nums) == 0 or len(nums)==1:\n",
    "            pass\n",
    "        else:\n",
    "            #do the following while i < j\n",
    "            while i < j:\n",
    "\n",
    "                # the current element of is 0 then append to the last of the list\n",
    "                if nums[i] == 0:\n",
    "                    \n",
    "                    nums.append(nums.pop(i))\n",
    "                    #decrement the j\n",
    "                    j-=1\n",
    "                else:\n",
    "                    #increment if not zero\n",
    "                    i+=1\n",
    "                    "
   ]
  }
 ],
 "metadata": {
  "kernelspec": {
   "display_name": "Python 3",
   "language": "python",
   "name": "python3"
  },
  "language_info": {
   "codemirror_mode": {
    "name": "ipython",
    "version": 3
   },
   "file_extension": ".py",
   "mimetype": "text/x-python",
   "name": "python",
   "nbconvert_exporter": "python",
   "pygments_lexer": "ipython3",
   "version": "3.6.8"
  }
 },
 "nbformat": 4,
 "nbformat_minor": 2
}
